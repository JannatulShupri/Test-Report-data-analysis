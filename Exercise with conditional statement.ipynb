{
 "cells": [
  {
   "cell_type": "code",
   "execution_count": 45,
   "id": "a029e140-dd04-461e-9421-6fda16c77f1e",
   "metadata": {},
   "outputs": [
    {
     "name": "stdout",
     "output_type": "stream",
     "text": [
      "you've got A+\n"
     ]
    }
   ],
   "source": [
    "print ( \"you've got A+\" )"
   ]
  },
  {
   "cell_type": "code",
   "execution_count": 47,
   "id": "0a24bbf6-e437-438a-bf53-d5267aef38e9",
   "metadata": {},
   "outputs": [
    {
     "name": "stdout",
     "output_type": "stream",
     "text": [
      "you've got A+\n"
     ]
    }
   ],
   "source": [
    "marks = 80\n",
    "if marks >= 80:\n",
    "    print (\"you've got A+\")"
   ]
  },
  {
   "cell_type": "code",
   "execution_count": 49,
   "id": "126c3a87-bac4-4282-bb22-0ad4e1976d05",
   "metadata": {},
   "outputs": [
    {
     "name": "stdout",
     "output_type": "stream",
     "text": [
      "you've got A\n"
     ]
    }
   ],
   "source": [
    "marks = 78\n",
    "if marks >= 80:\n",
    "    print (\"you've got A+\")\n",
    "else:\n",
    "    print (\"you've got A\")"
   ]
  },
  {
   "cell_type": "code",
   "execution_count": 51,
   "id": "0d7c9d2c-8f97-4f50-a1b4-5a6b6f9df1c8",
   "metadata": {},
   "outputs": [
    {
     "name": "stdout",
     "output_type": "stream",
     "text": [
      "you've got A\n"
     ]
    }
   ],
   "source": [
    "marks = 78\n",
    "if marks >= 80:\n",
    "    print (\"you've got A+\")\n",
    "elif marks >= 75:\n",
    "     print (\"you've got A\")\n",
    "else:\n",
    "    print (\"you've got F\")"
   ]
  },
  {
   "cell_type": "code",
   "execution_count": 3,
   "id": "7a5c3045-ded9-439c-8c65-d5dc5d6b4d03",
   "metadata": {},
   "outputs": [
    {
     "name": "stdout",
     "output_type": "stream",
     "text": [
      "you've got A+\n"
     ]
    }
   ],
   "source": [
    "marks = 85\n",
    "if marks >= 80:\n",
    "    print ( \"you've got A+\")\n",
    "elif marks >= 75:\n",
    "    print (\"you've got A\")\n",
    "elif marks >= 70:\n",
    "    print (\"you've got A-\")\n",
    "elif marks >= 65:\n",
    "    print (\"you've got B+\")\n",
    "elif marks >= 60:\n",
    "    print (\"you've got B\")\n",
    "elif marks >= 55:\n",
    "    print (\"you've got B-\")\n",
    "elif marks >= 50:\n",
    "    print (\"you've got C+\")\n",
    "elif marks >= 45:\n",
    "     print (\"you've got C\")\n",
    "elif marks >= 40:\n",
    "     print (\"you've got D\")\n",
    "else:\n",
    "    print (\"you've got F\")"
   ]
  },
  {
   "cell_type": "code",
   "execution_count": 7,
   "id": "112ad8c4-3da3-4675-bf9f-3c23537b5b46",
   "metadata": {},
   "outputs": [
    {
     "name": "stdout",
     "output_type": "stream",
     "text": [
      "invalid\n"
     ]
    }
   ],
   "source": [
    "marks = 102\n",
    "if marks > 100:\n",
    "    print (\"invalid\")"
   ]
  },
  {
   "cell_type": "code",
   "execution_count": 33,
   "id": "03cb7ae5-1491-4db0-976c-764d65de0666",
   "metadata": {},
   "outputs": [
    {
     "name": "stdout",
     "output_type": "stream",
     "text": [
      "invalid\n"
     ]
    }
   ],
   "source": [
    "marks = 40\n",
    "if (marks >= 80) and (marks <= 100):\n",
    "    print (\"A+\")\n",
    "elif (marks <40) and (marks > 0):\n",
    "    print (\"F\")\n",
    "else:\n",
    "    print (\"invalid\")"
   ]
  },
  {
   "cell_type": "code",
   "execution_count": 56,
   "id": "4861b3e3-8e85-42ea-9955-013f6855cc6a",
   "metadata": {},
   "outputs": [
    {
     "name": "stdout",
     "output_type": "stream",
     "text": [
      "invalid\n"
     ]
    }
   ],
   "source": [
    "marks = -8\n",
    "if (marks <0) or (marks > 100):\n",
    "    print (\"invalid\")"
   ]
  },
  {
   "cell_type": "code",
   "execution_count": 9,
   "id": "31806268-ea7f-450a-bf14-93b9ccb1bb83",
   "metadata": {},
   "outputs": [],
   "source": [
    "def cost_of_project (engraving, solid_gold):\n",
    "    if solid_gold == True: \n",
    "        cost = (solid_gold *(100 + len (engraving)* 10)) \n",
    "    else:\n",
    "        cost = (not solid_gold) * (50 + len (engraving) * 7)\n",
    "    return cost"
   ]
  },
  {
   "cell_type": "code",
   "execution_count": 11,
   "id": "4ba6101c-9bfb-4edc-aaea-bf5233d7774c",
   "metadata": {},
   "outputs": [
    {
     "name": "stdout",
     "output_type": "stream",
     "text": [
      "170\n",
      "99\n"
     ]
    }
   ],
   "source": [
    "project_one = cost_of_project (\"jewelry\" , True )\n",
    "print (project_one) \n",
    "project_one = cost_of_project (\"jewelry\" , False )\n",
    "print (project_one) "
   ]
  },
  {
   "cell_type": "code",
   "execution_count": 9,
   "id": "db9fab31-da77-43bd-bdab-d5ca6e6c8d20",
   "metadata": {},
   "outputs": [],
   "source": [
    "number = 10\n",
    "def check_even_or_odd(number):\n",
    "    if number % 2 == 0:\n",
    "        print(f\"The number {number} is even.\")\n",
    "    else:\n",
    "        print(f\"The number {number} is odd.\")"
   ]
  },
  {
   "cell_type": "code",
   "execution_count": 13,
   "id": "62362324-8736-4f9f-8de1-a9aae0d27576",
   "metadata": {},
   "outputs": [
    {
     "name": "stdout",
     "output_type": "stream",
     "text": [
      "The number 11 is odd.\n"
     ]
    }
   ],
   "source": [
    "check_even_or_odd(11)"
   ]
  },
  {
   "cell_type": "code",
   "execution_count": 15,
   "id": "42bb5360-5fe9-41d6-a5cc-4d0fb4cfccd4",
   "metadata": {},
   "outputs": [
    {
     "name": "stdout",
     "output_type": "stream",
     "text": [
      "The number 12 is even.\n",
      "None\n"
     ]
    }
   ],
   "source": [
    "the_number = check_even_or_odd(12)\n",
    "print (the_number)"
   ]
  },
  {
   "cell_type": "code",
   "execution_count": 15,
   "id": "a98ef6fa-5ef2-4fa1-a4dc-26bee9746f12",
   "metadata": {},
   "outputs": [],
   "source": [
    "def cost_of_project (engraving, solid_gold):\n",
    "    if not solid_gold == True: \n",
    "        cost = (not solid_gold) * (50 + len (engraving) * 7)\n",
    "    else:\n",
    "        cost = (solid_gold *(100 + len (engraving)* 10))\n",
    "    return cost"
   ]
  },
  {
   "cell_type": "code",
   "execution_count": 17,
   "id": "3ce9cfcb-f7ff-4e7a-af3d-8be344afa1fe",
   "metadata": {},
   "outputs": [
    {
     "name": "stdout",
     "output_type": "stream",
     "text": [
      "99\n"
     ]
    }
   ],
   "source": [
    "project_one = cost_of_project (\"jewelry\" , False )\n",
    "print (project_one)"
   ]
  },
  {
   "cell_type": "code",
   "execution_count": null,
   "id": "de1bdc03-0146-483a-a3d8-695c543e78b3",
   "metadata": {},
   "outputs": [],
   "source": []
  },
  {
   "cell_type": "code",
   "execution_count": 13,
   "id": "81be5c2e-a8ee-4919-a459-e8b942b79ab1",
   "metadata": {},
   "outputs": [
    {
     "name": "stdout",
     "output_type": "stream",
     "text": [
      "option1: 170\n",
      "option2: 99\n"
     ]
    }
   ],
   "source": [
    "option1= cost_of_project (\"jewelry\" , True )\n",
    "option2= cost_of_project (\"jewelry\" , False )\n",
    "print (f\"option1: {option1}\")\n",
    "print (f\"option2: {option2}\")"
   ]
  },
  {
   "cell_type": "code",
   "execution_count": 5,
   "id": "b5640903-c1b7-454c-a429-6c1e161cf395",
   "metadata": {},
   "outputs": [],
   "source": [
    "def get_water_bill (num_gallons):\n",
    "    if (gallons >= 0) and (gallons <= 8000):\n",
    "        bill = ((num_gallons /1000)* 5)\n",
    "    elif (gallons >= 8001 ) and (gallons <= 22000):\n",
    "        bill = ((num_gallons /1000)* 6)\n",
    "    elif (gallons >= 22001 ) and (gallons <= 30000):\n",
    "        bill = ((num_gallons /1000)* 7)\n",
    "    elif (gallons > 30000):\n",
    "        bill = ((num_gallons /1000)* 10)\n",
    "    return bill"
   ]
  },
  {
   "cell_type": "code",
   "execution_count": 7,
   "id": "8b8cb44e-63ea-4490-9a59-b3d393b76538",
   "metadata": {},
   "outputs": [
    {
     "name": "stdout",
     "output_type": "stream",
     "text": [
      "60.0\n",
      "150.0\n"
     ]
    }
   ],
   "source": [
    "water_bill = get_water_bill (10000)\n",
    "print (water_bill)\n",
    "water_bill = get_water_bill (25000)\n",
    "print (water_bill)"
   ]
  },
  {
   "cell_type": "code",
   "execution_count": null,
   "id": "f068e1a6-5019-400d-9576-7a555000bf27",
   "metadata": {},
   "outputs": [],
   "source": [
    "def integer (even):\n",
    "    number = "
   ]
  },
  {
   "cell_type": "code",
   "execution_count": null,
   "id": "519cc1d6-e103-41b2-99e8-aaf788de86b2",
   "metadata": {},
   "outputs": [],
   "source": []
  },
  {
   "cell_type": "code",
   "execution_count": null,
   "id": "726cef9f-8429-482d-a626-032fdb4e78d3",
   "metadata": {},
   "outputs": [],
   "source": []
  }
 ],
 "metadata": {
  "kernelspec": {
   "display_name": "Python [conda env:base] *",
   "language": "python",
   "name": "conda-base-py"
  },
  "language_info": {
   "codemirror_mode": {
    "name": "ipython",
    "version": 3
   },
   "file_extension": ".py",
   "mimetype": "text/x-python",
   "name": "python",
   "nbconvert_exporter": "python",
   "pygments_lexer": "ipython3",
   "version": "3.12.7"
  }
 },
 "nbformat": 4,
 "nbformat_minor": 5
}
