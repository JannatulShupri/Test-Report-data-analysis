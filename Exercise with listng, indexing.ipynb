{
 "cells": [
  {
   "cell_type": "code",
   "execution_count": 5,
   "id": "ecaa6e12-a1cc-49de-8c3f-15ee0abfcae8",
   "metadata": {},
   "outputs": [
    {
     "name": "stdout",
     "output_type": "stream",
     "text": [
      "['Sabrina', 'Samiha', 'Shupri', 'Dina']\n"
     ]
    }
   ],
   "source": [
    "# listing\n",
    "students_list = [\"Sabrina\", \"Samiha\", \"Shupri\", \"Dina\"]\n",
    "print (students_list)"
   ]
  },
  {
   "cell_type": "code",
   "execution_count": 7,
   "id": "7adfd3c1-77dd-475f-b574-62b2263847b7",
   "metadata": {},
   "outputs": [
    {
     "name": "stdout",
     "output_type": "stream",
     "text": [
      "<class 'list'>\n",
      "4\n"
     ]
    }
   ],
   "source": [
    "print (type (students_list))\n",
    "print (len (students_list))"
   ]
  },
  {
   "cell_type": "code",
   "execution_count": 9,
   "id": "f6782e0c-af95-4889-939a-833681e9af29",
   "metadata": {},
   "outputs": [
    {
     "name": "stdout",
     "output_type": "stream",
     "text": [
      " First entry Sabrina\n",
      " Second entry Samiha\n",
      " last entry Dina\n",
      " last entry Shupri\n"
     ]
    }
   ],
   "source": [
    "#indexing\n",
    "print (\" First entry\", students_list [0])\n",
    "print (\" Second entry\", students_list [1])\n",
    "\n",
    "print (\" last entry\", students_list [-1])\n",
    "print (\" last entry\", students_list [-2])"
   ]
  },
  {
   "cell_type": "code",
   "execution_count": 17,
   "id": "94de968a-0721-42df-a3be-3819fe668ce0",
   "metadata": {},
   "outputs": [
    {
     "name": "stdout",
     "output_type": "stream",
     "text": [
      "['Sabrina', 'Samiha']\n",
      "['Samiha', 'Shupri']\n",
      "['Samiha']\n",
      "['Shupri', 'Dina']\n",
      "['Samiha', 'Shupri']\n"
     ]
    }
   ],
   "source": [
    "#slicing\n",
    "print ( students_list [:2])\n",
    "print (students_list [1:3])\n",
    "print (students_list [1:2])\n",
    "print ( students_list [-2:])\n",
    "print ( students_list [-3: -1])"
   ]
  },
  {
   "cell_type": "code",
   "execution_count": 1,
   "id": "a5069855-2fb7-437e-a711-0e47a91fea82",
   "metadata": {},
   "outputs": [
    {
     "name": "stdout",
     "output_type": "stream",
     "text": [
      "['Samiha', 'Shupri', 'Dina', 'Shurovi']\n"
     ]
    }
   ],
   "source": [
    "#Removing item\n",
    "students_list = [\"Sabrina\", \"Samiha\", \"Shupri\", \"Dina\"]\n",
    "students_list .remove (\"Sabrina\")\n",
    "students_list .append (\"Shurovi\")\n",
    "print (students_list)"
   ]
  },
  {
   "cell_type": "code",
   "execution_count": 31,
   "id": "25f0366f-b31e-414f-a11b-1f78655d9c08",
   "metadata": {},
   "outputs": [
    {
     "name": "stdout",
     "output_type": "stream",
     "text": [
      "Length of the list: 7\n",
      "Entry at index 2: 172\n"
     ]
    }
   ],
   "source": [
    "sales = [130, 128, 172, 139, 191, 168,170]\n",
    "print (\"Length of the list:\", len (sales))\n",
    "print (\"Entry at index 2:\", sales[2])"
   ]
  },
  {
   "cell_type": "code",
   "execution_count": 33,
   "id": "5c991a90-c21e-4a14-99cb-7b02b553a881",
   "metadata": {},
   "outputs": [
    {
     "name": "stdout",
     "output_type": "stream",
     "text": [
      "Minimum: 128\n",
      "Maximum: 191\n"
     ]
    }
   ],
   "source": [
    "print (\"Minimum:\", min (sales))\n",
    "print (\"Maximum:\", max (sales))"
   ]
  },
  {
   "cell_type": "code",
   "execution_count": 35,
   "id": "e79e9877-94dc-484b-86bc-11807065eb26",
   "metadata": {},
   "outputs": [
    {
     "name": "stdout",
     "output_type": "stream",
     "text": [
      "Total books sold in one week: 1098\n"
     ]
    }
   ],
   "source": [
    "print (\"Total books sold in one week:\", sum (sales))"
   ]
  },
  {
   "cell_type": "code",
   "execution_count": 37,
   "id": "25490dd5-0e16-44a3-b871-92d91aa1bcfd",
   "metadata": {},
   "outputs": [
    {
     "name": "stdout",
     "output_type": "stream",
     "text": [
      " Average books sold in one week: 156.85714285714286\n"
     ]
    }
   ],
   "source": [
    "avg_sales = sum (sales) / len (sales)\n",
    "print (\" Average books sold in one week:\", avg_sales)"
   ]
  },
  {
   "cell_type": "code",
   "execution_count": 3,
   "id": "69e0b4ed-8201-450e-a048-388c47496ddd",
   "metadata": {},
   "outputs": [
    {
     "name": "stdout",
     "output_type": "stream",
     "text": [
      "['stewed meat with onions', 'risotto with trout and shrimp', 'fish soup with cream and pnion', 'gyro', 'roasted beet salad']\n"
     ]
    }
   ],
   "source": [
    "menu =[\"stewed meat with onions\", \"bean soup\", \"risotto with trout and shrimp\", \"fish soup with cream and pnion\", \"gyro\"]\n",
    "menu .remove (\"bean soup\") \n",
    "menu .append (\"roasted beet salad\")\n",
    "print (menu)"
   ]
  },
  {
   "cell_type": "code",
   "execution_count": 6,
   "id": "5ffd5592-eeb5-4ae0-9bec-f8fc55d7bafc",
   "metadata": {},
   "outputs": [
    {
     "name": "stdout",
     "output_type": "stream",
     "text": [
      "[137, 147, 135, 128, 170, 174, 165, 146, 126, 159, 141, 148, 132, 147, 168, 153, 170, 161, 148, 152, 141, 151, 131, 149, 164, 163, 143, 143, 166, 171]\n",
      "average first seven: 150.85714285714286\n",
      "average last seven: 157.0\n",
      "maximum: 174\n",
      "minimum: 126\n"
     ]
    }
   ],
   "source": [
    "num_customers = [ 137, 147, 135, 128, 170, 174, 165, 146, 126, 159, \n",
    "                 141, 148, 132, 147, 168, 153, 170, 161, 148, 152,\n",
    "                 141, 151, 131, 149, 164, 163, 143, 143, 166, 171]\n",
    "print (num_customers)\n",
    "print (\"average first seven:\", sum (num_customers [:7])/ 7)\n",
    "print (\"average last seven:\", sum (num_customers [-7:])/ 7)\n",
    "print (\"maximum:\", max (num_customers))\n",
    "print (\"minimum:\", min (num_customers))"
   ]
  },
  {
   "cell_type": "code",
   "execution_count": 8,
   "id": "c5b9a760-1be0-482c-94fa-14803baf4076",
   "metadata": {},
   "outputs": [
    {
     "name": "stdout",
     "output_type": "stream",
     "text": [
      "['Samiha', ' Sabiha', ' Shupri', ' Saba']\n",
      "<class 'list'>\n",
      "4\n"
     ]
    }
   ],
   "source": [
    "#string to list\n",
    "students = \"Samiha, Sabiha, Shupri, Saba\"\n",
    "my_list = students.split (\",\")\n",
    "print (my_list)\n",
    "print (type (my_list))\n",
    "print (len (my_list))"
   ]
  },
  {
   "cell_type": "code",
   "execution_count": 10,
   "id": "0a45676f-5558-4f47-b8bb-6f2855733f9f",
   "metadata": {},
   "outputs": [
    {
     "name": "stdout",
     "output_type": "stream",
     "text": [
      "[' A', 'B', 'C', 'D', 'E', 'F', 'G', 'H', 'I', 'J', 'K', 'L', 'M', 'N', 'O', 'P', 'Q', 'R', 'S', 'T', 'U', 'V', 'W', 'X', 'Y', 'Z']\n",
      "['Mr. H. Potter', ' The Cupboard under the stairs', ' 4 private Drive', ' Little Whinging', ' Surrey']\n"
     ]
    }
   ],
   "source": [
    "alphabet = \" A.B.C.D.E.F.G.H.I.J.K.L.M.N.O.P.Q.R.S.T.U.V.W.X.Y.Z\"\n",
    "address = \"Mr. H. Potter, The Cupboard under the stairs, 4 private Drive, Little Whinging, Surrey\"\n",
    "letters = alphabet.split (\".\")\n",
    "print (letters)\n",
    "formatted_address = address.split (\",\")\n",
    "print (formatted_address)"
   ]
  },
  {
   "cell_type": "code",
   "execution_count": 12,
   "id": "46eb5305-3285-4584-a4ef-113f8d1e5305",
   "metadata": {},
   "outputs": [],
   "source": [
    "def percentage_growth (num_users, yrs_ago):\n",
    "    growth = ((num_users[-1]- num_users[-1 - yrs_ago])/num_users[-1 -yrs_ago]) * 100\n",
    "    return growth"
   ]
  },
  {
   "cell_type": "code",
   "execution_count": 14,
   "id": "2e26959b-010e-4bb5-a4e0-54ef1e5ccb0d",
   "metadata": {},
   "outputs": [
    {
     "name": "stdout",
     "output_type": "stream",
     "text": [
      "3.629533421163837\n",
      "66.15639847417742\n"
     ]
    }
   ],
   "source": [
    "num_users = [920344, 1043553, 1204334, 1458996, 1503323, 1593432, 1623463, 1843064, 1930992, 2001078]\n",
    "growth_1_yrs_ago = percentage_growth (num_users, 1)\n",
    "growth_7_yrs_ago = percentage_growth (num_users, 7)\n",
    "print (growth_1_yrs_ago)\n",
    "print (growth_7_yrs_ago)"
   ]
  },
  {
   "cell_type": "code",
   "execution_count": null,
   "id": "2f9dd312-51e9-4bf1-8d4a-d15b5be6b25b",
   "metadata": {},
   "outputs": [],
   "source": []
  },
  {
   "cell_type": "code",
   "execution_count": null,
   "id": "eeacd2c7-36d5-4667-b4bc-846f3962a5c2",
   "metadata": {},
   "outputs": [],
   "source": []
  }
 ],
 "metadata": {
  "kernelspec": {
   "display_name": "Python [conda env:base] *",
   "language": "python",
   "name": "conda-base-py"
  },
  "language_info": {
   "codemirror_mode": {
    "name": "ipython",
    "version": 3
   },
   "file_extension": ".py",
   "mimetype": "text/x-python",
   "name": "python",
   "nbconvert_exporter": "python",
   "pygments_lexer": "ipython3",
   "version": "3.12.7"
  }
 },
 "nbformat": 4,
 "nbformat_minor": 5
}
