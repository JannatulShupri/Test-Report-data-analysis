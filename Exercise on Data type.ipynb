{
 "cells": [
  {
   "cell_type": "code",
   "execution_count": 1,
   "id": "d25a23cc-a7dc-4f4c-b104-017e79ab0b40",
   "metadata": {},
   "outputs": [
    {
     "name": "stdout",
     "output_type": "stream",
     "text": [
      "5\n",
      "<class 'int'>\n"
     ]
    }
   ],
   "source": [
    "# data type\n",
    "x=5\n",
    "print (x)\n",
    "print (type (x))"
   ]
  },
  {
   "cell_type": "code",
   "execution_count": 7,
   "id": "68b6be5b-6442-4029-8b0c-7ac3cc531798",
   "metadata": {},
   "outputs": [
    {
     "name": "stdout",
     "output_type": "stream",
     "text": [
      "Data Analysis\n",
      "<class 'str'>\n"
     ]
    }
   ],
   "source": [
    "string = \"Data Analysis\"\n",
    "print (string)\n",
    "print (type (string))"
   ]
  },
  {
   "cell_type": "code",
   "execution_count": 15,
   "id": "64fbf216-fbb0-4c7c-b83c-acb5784a304f",
   "metadata": {},
   "outputs": [
    {
     "name": "stdout",
     "output_type": "stream",
     "text": [
      "1.44\n",
      "<class 'str'>\n"
     ]
    }
   ],
   "source": [
    "number1 = \"1.44\"\n",
    "print (number1)\n",
    "print (type (number1))"
   ]
  },
  {
   "cell_type": "code",
   "execution_count": 17,
   "id": "9755e170-3ad0-4269-8047-917126d40c00",
   "metadata": {},
   "outputs": [
    {
     "name": "stdout",
     "output_type": "stream",
     "text": [
      "1.44\n",
      "<class 'float'>\n"
     ]
    }
   ],
   "source": [
    "my_number = float(number1)\n",
    "print(my_number)\n",
    "print(type(my_number))"
   ]
  },
  {
   "cell_type": "code",
   "execution_count": 18,
   "id": "c7c7446b-325a-4ff3-a90b-bc11a993e14e",
   "metadata": {},
   "outputs": [
    {
     "name": "stdout",
     "output_type": "stream",
     "text": [
      "1.44\n",
      "<class 'float'>\n"
     ]
    }
   ],
   "source": [
    "number2 = float (number1)\n",
    "print (number2)\n",
    "print (type (number2))"
   ]
  },
  {
   "cell_type": "code",
   "execution_count": 22,
   "id": "adb16efd-d411-42e1-981b-5d4e722986de",
   "metadata": {},
   "outputs": [
    {
     "name": "stdout",
     "output_type": "stream",
     "text": [
      "True\n",
      "<class 'bool'>\n",
      "False\n",
      "<class 'bool'>\n"
     ]
    }
   ],
   "source": [
    "z_1 = True\n",
    "print (z_1)\n",
    "print (type(z_1))\n",
    "\n",
    "z_2 = False\n",
    "print (z_2)\n",
    "print (type (z_2))"
   ]
  },
  {
   "cell_type": "code",
   "execution_count": 30,
   "id": "dd59346a-946c-4491-8749-a339aa528390",
   "metadata": {},
   "outputs": [
    {
     "name": "stdout",
     "output_type": "stream",
     "text": [
      "3\n",
      "<class 'int'>\n",
      "0\n",
      "<class 'int'>\n",
      "-0.0\n",
      "<class 'float'>\n",
      "-4.1\n",
      "<class 'float'>\n",
      "abc\n",
      "<class 'str'>\n",
      "\n",
      "<class 'str'>\n",
      "0\n"
     ]
    }
   ],
   "source": [
    "n1 = 3 * True\n",
    "print (n1)\n",
    "print (type (n1))\n",
    "n2 = 2 * False\n",
    "print (n2)\n",
    "print (type (n2))\n",
    "n3 = -4.1 * False\n",
    "print (n3)\n",
    "print (type (n3))\n",
    "n4 = -4.1 * True\n",
    "print (n4)\n",
    "print (type (n4))\n",
    "n5 = \"abc\" * True\n",
    "print (n5)\n",
    "print (type (n5))\n",
    "n6 = \"abc\" * False\n",
    "print (n6)\n",
    "print (type (n6))\n",
    "print (len (n6))"
   ]
  },
  {
   "cell_type": "code",
   "execution_count": 1,
   "id": "b012bf4f-4938-459c-82c6-824b22df359c",
   "metadata": {},
   "outputs": [
    {
     "name": "stdout",
     "output_type": "stream",
     "text": [
      "False\n",
      "<class 'bool'>\n"
     ]
    }
   ],
   "source": [
    "z_1 = 2>3\n",
    "print (z_1)\n",
    "print (type (z_1))"
   ]
  },
  {
   "cell_type": "code",
   "execution_count": 3,
   "id": "65966326-bab1-4f08-bed4-e71e3272bfb0",
   "metadata": {},
   "outputs": [
    {
     "ename": "TypeError",
     "evalue": "can't multiply sequence by non-int of type 'str'",
     "output_type": "error",
     "traceback": [
      "\u001b[1;31m---------------------------------------------------------------------------\u001b[0m",
      "\u001b[1;31mTypeError\u001b[0m                                 Traceback (most recent call last)",
      "Cell \u001b[1;32mIn[3], line 2\u001b[0m\n\u001b[0;32m      1\u001b[0m \u001b[38;5;66;03m# two string can't be multilied\u001b[39;00m\n\u001b[1;32m----> 2\u001b[0m s1 \u001b[38;5;241m=\u001b[39m \u001b[38;5;124m\"\u001b[39m\u001b[38;5;124mabc\u001b[39m\u001b[38;5;124m\"\u001b[39m \u001b[38;5;241m*\u001b[39m \u001b[38;5;124m\"\u001b[39m\u001b[38;5;124mab\u001b[39m\u001b[38;5;124m\"\u001b[39m\n\u001b[0;32m      3\u001b[0m \u001b[38;5;28mprint\u001b[39m (s1)\n",
      "\u001b[1;31mTypeError\u001b[0m: can't multiply sequence by non-int of type 'str'"
     ]
    }
   ],
   "source": [
    "# two string can't be multilied\n",
    "s1 = \"abc\" * \"ab\"\n",
    "print (s1)"
   ]
  },
  {
   "cell_type": "code",
   "execution_count": 7,
   "id": "9edfc7b8-3f57-4019-b2ea-efa7d60e7b08",
   "metadata": {},
   "outputs": [
    {
     "name": "stdout",
     "output_type": "stream",
     "text": [
      "abcabcabc\n",
      "<class 'str'>\n"
     ]
    }
   ],
   "source": [
    "s2 = \"abc\" *3\n",
    "print (s2)\n",
    "print (type(s2))"
   ]
  },
  {
   "cell_type": "code",
   "execution_count": 11,
   "id": "ff50758d-f1a3-428a-9354-187390f088cb",
   "metadata": {},
   "outputs": [
    {
     "name": "stdout",
     "output_type": "stream",
     "text": [
      "3.141592653589793\n",
      "<class 'float'>\n",
      "3.14159\n",
      "<class 'float'>\n"
     ]
    }
   ],
   "source": [
    "nearly_pi = 3.141592653589793238462643383279502884197169399375105820974944\n",
    "print(nearly_pi)\n",
    "print(type(nearly_pi))\n",
    "\n",
    "rounded_pi = round(nearly_pi, 5)\n",
    "print(rounded_pi)\n",
    "print(type(rounded_pi))"
   ]
  },
  {
   "cell_type": "code",
   "execution_count": 19,
   "id": "5f62d68a-2ac8-430e-bf35-eccb9ec59b83",
   "metadata": {},
   "outputs": [
    {
     "name": "stdout",
     "output_type": "stream",
     "text": [
      "0\n",
      "1\n",
      "1\n",
      "2\n",
      "3\n"
     ]
    }
   ],
   "source": [
    "print(False + False)\n",
    "print(True + False)\n",
    "print(False + True)\n",
    "print(True + True)\n",
    "print(False + True + True + True)"
   ]
  },
  {
   "cell_type": "code",
   "execution_count": null,
   "id": "07b94e62-2037-4f91-b70f-3bb872466d4f",
   "metadata": {},
   "outputs": [],
   "source": []
  },
  {
   "cell_type": "code",
   "execution_count": null,
   "id": "289c50a4-46c2-48fb-90c9-1fbf5bbb0a75",
   "metadata": {},
   "outputs": [],
   "source": []
  }
 ],
 "metadata": {
  "kernelspec": {
   "display_name": "Python [conda env:base] *",
   "language": "python",
   "name": "conda-base-py"
  },
  "language_info": {
   "codemirror_mode": {
    "name": "ipython",
    "version": 3
   },
   "file_extension": ".py",
   "mimetype": "text/x-python",
   "name": "python",
   "nbconvert_exporter": "python",
   "pygments_lexer": "ipython3",
   "version": "3.12.7"
  }
 },
 "nbformat": 4,
 "nbformat_minor": 5
}
