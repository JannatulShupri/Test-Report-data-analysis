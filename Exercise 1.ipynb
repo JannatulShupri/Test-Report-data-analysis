{
 "cells": [
  {
   "cell_type": "code",
   "execution_count": 2,
   "id": "19eb4e48-f847-4371-89d3-f42971a6ed16",
   "metadata": {},
   "outputs": [
    {
     "name": "stdout",
     "output_type": "stream",
     "text": [
      "Welcome to Data Analysis with Python\n"
     ]
    }
   ],
   "source": [
    "print(\"Welcome to Data Analysis with Python\")"
   ]
  },
  {
   "cell_type": "code",
   "execution_count": 6,
   "id": "85c496e8-5aa2-41a4-baa2-4f2b07e14af4",
   "metadata": {},
   "outputs": [
    {
     "name": "stdout",
     "output_type": "stream",
     "text": [
      "5\n",
      "3\n"
     ]
    }
   ],
   "source": [
    "print (2+3)\n",
    "print (1+2)"
   ]
  },
  {
   "cell_type": "code",
   "execution_count": 10,
   "id": "3038d271-0c2b-4f12-8769-ebcdf74e3d2d",
   "metadata": {},
   "outputs": [
    {
     "name": "stdout",
     "output_type": "stream",
     "text": [
      "<class 'int'>\n",
      "<class 'str'>\n",
      "<class 'float'>\n"
     ]
    }
   ],
   "source": [
    "print (type (1))\n",
    "print (type (\"1\"))\n",
    "print (type (1.5))"
   ]
  },
  {
   "cell_type": "code",
   "execution_count": 11,
   "id": "298e5d2a-d566-42c4-80de-7b67b9794e41",
   "metadata": {},
   "outputs": [
    {
     "data": {
      "text/plain": [
       "5"
      ]
     },
     "execution_count": 11,
     "metadata": {},
     "output_type": "execute_result"
    }
   ],
   "source": [
    "2+3"
   ]
  },
  {
   "cell_type": "code",
   "execution_count": 9,
   "id": "3d86c99d-65be-4943-9c08-bbffa88cdff4",
   "metadata": {},
   "outputs": [
    {
     "data": {
      "text/plain": [
       "int"
      ]
     },
     "execution_count": 9,
     "metadata": {},
     "output_type": "execute_result"
    }
   ],
   "source": [
    "type (1)"
   ]
  },
  {
   "cell_type": "code",
   "execution_count": 10,
   "id": "7eb86351-38a9-422b-9b88-688ed85c4110",
   "metadata": {},
   "outputs": [
    {
     "name": "stdout",
     "output_type": "stream",
     "text": [
      "196.0\n"
     ]
    }
   ],
   "source": [
    "print(((1+3)*(9-2)/2)**2)"
   ]
  },
  {
   "cell_type": "code",
   "execution_count": 13,
   "id": "4e148f92-b160-423f-b386-23528afc6dc1",
   "metadata": {},
   "outputs": [
    {
     "name": "stdout",
     "output_type": "stream",
     "text": [
      "6\n"
     ]
    }
   ],
   "source": [
    "# Multiply 3 by 2\n",
    "print (3*2)"
   ]
  },
  {
   "cell_type": "code",
   "execution_count": 15,
   "id": "edac6d69-1f0c-40bd-a710-5ac981f5e760",
   "metadata": {},
   "outputs": [
    {
     "name": "stdout",
     "output_type": "stream",
     "text": [
      "7\n"
     ]
    }
   ],
   "source": [
    "num1 = 5\n",
    "num2 = 2\n",
    "print (num1 + num2)"
   ]
  },
  {
   "cell_type": "code",
   "execution_count": 17,
   "id": "6679a21b-28cf-45e7-9797-1b77acddf1e2",
   "metadata": {},
   "outputs": [
    {
     "name": "stdout",
     "output_type": "stream",
     "text": [
      "10\n",
      "5\n",
      "55\n"
     ]
    }
   ],
   "source": [
    "num1=10\n",
    "print(num1)\n",
    "num1=5\n",
    "print(num1)\n",
    "num1=num1+50\n",
    "print(num1)"
   ]
  },
  {
   "cell_type": "code",
   "execution_count": 1,
   "id": "e1ade63b-e8e7-4692-9193-6868a11060ae",
   "metadata": {},
   "outputs": [
    {
     "name": "stdout",
     "output_type": "stream",
     "text": [
      "360\n"
     ]
    }
   ],
   "source": [
    "# variables\n",
    "accidents_per_hour = 15\n",
    "hours_per_day=24\n",
    "#calculate accidents per day\n",
    "accidents_per_day = hours_per_day * accidents_per_hour\n",
    "print (accidents_per_day)"
   ]
  },
  {
   "cell_type": "code",
   "execution_count": 3,
   "id": "1186d55e-ea47-467f-acb4-97024414e725",
   "metadata": {},
   "outputs": [
    {
     "name": "stdout",
     "output_type": "stream",
     "text": [
      "126144000\n"
     ]
    }
   ],
   "source": [
    "#create variables\n",
    "num_years=4\n",
    "days_per_year=365\n",
    "hours_per_day=24\n",
    "mins_per_hour=60\n",
    "secs_per_min=60\n",
    "#calculate number of seconds in four years\n",
    "total_secs= secs_per_min * mins_per_hour * hours_per_day * days_per_year * num_years\n",
    "print (total_secs)"
   ]
  },
  {
   "cell_type": "code",
   "execution_count": 5,
   "id": "79347177-5e3e-43fc-9c99-04db81e89bdf",
   "metadata": {},
   "outputs": [
    {
     "name": "stdout",
     "output_type": "stream",
     "text": [
      "126230400.0\n"
     ]
    }
   ],
   "source": [
    "# update to include leap-year\n",
    "days_per_year= 365.25\n",
    "#calculate number of seconds in four years\n",
    "total_secs= secs_per_min * mins_per_hour * hours_per_day * days_per_year * num_years\n",
    "print (total_secs)"
   ]
  },
  {
   "cell_type": "code",
   "execution_count": null,
   "id": "10af01b2-b56c-48b1-9072-9d86058ba1e0",
   "metadata": {},
   "outputs": [],
   "source": []
  }
 ],
 "metadata": {
  "kernelspec": {
   "display_name": "Python [conda env:base] *",
   "language": "python",
   "name": "conda-base-py"
  },
  "language_info": {
   "codemirror_mode": {
    "name": "ipython",
    "version": 3
   },
   "file_extension": ".py",
   "mimetype": "text/x-python",
   "name": "python",
   "nbconvert_exporter": "python",
   "pygments_lexer": "ipython3",
   "version": "3.12.7"
  }
 },
 "nbformat": 4,
 "nbformat_minor": 5
}
