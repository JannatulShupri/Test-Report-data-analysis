{
 "cells": [
  {
   "cell_type": "code",
   "execution_count": 3,
   "id": "1f0b98ad-3563-40b9-bbc6-a65386d9a00b",
   "metadata": {},
   "outputs": [],
   "source": [
    "# function defining\n",
    "def add (n1, n2):\n",
    "    total = n1+n2\n",
    "    return total"
   ]
  },
  {
   "cell_type": "code",
   "execution_count": 13,
   "id": "b57d2b9a-8f83-45ec-8fc9-4dbdce6ad093",
   "metadata": {},
   "outputs": [
    {
     "name": "stdout",
     "output_type": "stream",
     "text": [
      "15\n",
      "5\n",
      "10\n"
     ]
    }
   ],
   "source": [
    "num1 =5\n",
    "num2 = 10\n",
    "sum = add (num1, num2)\n",
    "print (sum)\n",
    "sum = add(3,2)\n",
    "print (sum)\n",
    "sum = add (5,5)\n",
    "print (sum)"
   ]
  },
  {
   "cell_type": "code",
   "execution_count": 6,
   "id": "aea85baf-5022-4cfb-9658-da4754ce63cd",
   "metadata": {},
   "outputs": [
    {
     "name": "stdout",
     "output_type": "stream",
     "text": [
      "2\n"
     ]
    }
   ],
   "source": [
    "print(5//2)"
   ]
  },
  {
   "cell_type": "code",
   "execution_count": 11,
   "id": "8e04a0f4-c32f-4656-85bb-37acea94561e",
   "metadata": {},
   "outputs": [],
   "source": [
    "def get_pay(num_hours):\n",
    "    # pre-tax pay, based on receiving BDT 2000/hour\n",
    "    pay_pretax = num_hours * 2000\n",
    "    # after-tax pay, based on being in 12% tax bracket\n",
    "    pay_aftertax = pay_pretax * (1-0.12)\n",
    "    return pay_aftertax"
   ]
  },
  {
   "cell_type": "code",
   "execution_count": 13,
   "id": "c8b376aa-364d-496a-a3e9-7d5404a653e0",
   "metadata": {},
   "outputs": [
    {
     "name": "stdout",
     "output_type": "stream",
     "text": [
      "140800.0\n"
     ]
    }
   ],
   "source": [
    "payment = get_pay (80)\n",
    "print (payment) "
   ]
  },
  {
   "cell_type": "code",
   "execution_count": 15,
   "id": "759aa76f-1f5e-436a-9e8e-e10a55075db7",
   "metadata": {},
   "outputs": [
    {
     "name": "stdout",
     "output_type": "stream",
     "text": [
      "You will get 140800.0 BDT\n",
      "You will get (payment) BDT\n"
     ]
    }
   ],
   "source": [
    "# both string and text in single line, f sring is needed here, {} is for string variable\n",
    "print (f\"You will get {payment} BDT\")\n",
    "print (f\"You will get (payment) BDT\")"
   ]
  },
  {
   "cell_type": "code",
   "execution_count": 39,
   "id": "adc4276e-f266-4b91-a81c-26bf938584e9",
   "metadata": {},
   "outputs": [],
   "source": [
    "def get_expected_cost (beds, baths):\n",
    "    cost = 80000 + beds *30000 + baths *10000\n",
    "    return cost\n"
   ]
  },
  {
   "cell_type": "code",
   "execution_count": 45,
   "id": "92fe809a-ff7a-422a-8ccc-9ae3b4315170",
   "metadata": {},
   "outputs": [
    {
     "name": "stdout",
     "output_type": "stream",
     "text": [
      "150000\n"
     ]
    }
   ],
   "source": [
    "cost = get_expected_cost (2, 1)\n",
    "print (cost)"
   ]
  },
  {
   "cell_type": "code",
   "execution_count": 19,
   "id": "df6f17fd-6b3d-4fb0-b233-e73044a4b629",
   "metadata": {},
   "outputs": [],
   "source": [
    "# function with no argument\n",
    "def print_msg() :\n",
    "    print(\"Data Analysis- A project of ICT ministry\")"
   ]
  },
  {
   "cell_type": "code",
   "execution_count": 21,
   "id": "190499e6-47ec-457a-96d7-4c06756a6a52",
   "metadata": {},
   "outputs": [
    {
     "name": "stdout",
     "output_type": "stream",
     "text": [
      "Data Analysis- A project of ICT ministry\n"
     ]
    }
   ],
   "source": [
    "print_msg()"
   ]
  },
  {
   "cell_type": "code",
   "execution_count": 23,
   "id": "dfa1af47-4db5-4156-adcb-65c4e0f9a1ed",
   "metadata": {},
   "outputs": [],
   "source": [
    "# function with multiple argument\n",
    "def get_pay_with_more_inputs (num_hours,hourly_wage,tax_bracket) : \n",
    "    #pre_tax pay\n",
    "    pay_pretax = num_hours * hourly_wage\n",
    "    #pay_aftertax\n",
    "    pay_aftertax = pay_pretax * (1-(tax_bracket/100))\n",
    "    return pay_aftertax"
   ]
  },
  {
   "cell_type": "code",
   "execution_count": 25,
   "id": "b09bb1c0-26ed-477a-8eba-40eee1013563",
   "metadata": {},
   "outputs": [
    {
     "name": "stdout",
     "output_type": "stream",
     "text": [
      "140800.0\n"
     ]
    }
   ],
   "source": [
    "bill= get_pay_with_more_inputs (80, 2000, 12)\n",
    "print(bill) "
   ]
  },
  {
   "cell_type": "code",
   "execution_count": 27,
   "id": "a53ae861-b18b-4765-9dd4-0df7877c1aa9",
   "metadata": {},
   "outputs": [
    {
     "name": "stdout",
     "output_type": "stream",
     "text": [
      "208800.0\n"
     ]
    }
   ],
   "source": [
    "bill = get_pay_with_more_inputs (80, 3000, 13)\n",
    "print(bill) "
   ]
  },
  {
   "cell_type": "code",
   "execution_count": 29,
   "id": "13369a2d-4e04-4adb-87d6-116b795ed9b9",
   "metadata": {},
   "outputs": [],
   "source": [
    "# function with default argument \n",
    "def msg (name= \"shupri\"):\n",
    "    print (f\"Welcome to data analysis, (samiha)\")"
   ]
  },
  {
   "cell_type": "code",
   "execution_count": 31,
   "id": "e0ecb603-0f4c-492f-a8b6-e8c74ad8e06f",
   "metadata": {},
   "outputs": [
    {
     "name": "stdout",
     "output_type": "stream",
     "text": [
      "Welcome to data analysis, (samiha)\n",
      "Welcome to data analysis, (samiha)\n"
     ]
    }
   ],
   "source": [
    "msg ()\n",
    "msg (\"samiha\")"
   ]
  },
  {
   "cell_type": "code",
   "execution_count": 33,
   "id": "6efce0e0-b86d-488a-a185-98d32c643fa8",
   "metadata": {},
   "outputs": [],
   "source": [
    "def get_cost (sqft_walls, sqft_ceiling, sqft_per_gallon, cost_per_galon) :\n",
    "    cost = (((sqft_walls + sqft_ceiling)/sqft_per_gallon) * cost_per_galon)\n",
    "    return cost "
   ]
  },
  {
   "cell_type": "code",
   "execution_count": 35,
   "id": "accc8dff-071c-4fde-92d6-517e20c5cdb4",
   "metadata": {},
   "outputs": [
    {
     "name": "stdout",
     "output_type": "stream",
     "text": [
      "21.599999999999998\n"
     ]
    }
   ],
   "source": [
    "total_cost = get_cost (432, 144, 400, 15)\n",
    "print (total_cost)"
   ]
  },
  {
   "cell_type": "code",
   "execution_count": 39,
   "id": "51c107d2-ab82-40d3-bc4c-f213788c39b3",
   "metadata": {},
   "outputs": [
    {
     "name": "stdout",
     "output_type": "stream",
     "text": [
      "22\n",
      "21\n"
     ]
    }
   ],
   "source": [
    "# to make round figure, we need to import math and then write (math.ceil or math.floor)\n",
    "import math\n",
    "print (math.ceil (total_cost))\n",
    "print (math.floor (total_cost))"
   ]
  },
  {
   "cell_type": "code",
   "execution_count": 41,
   "id": "ed329038-0b52-4c37-8907-680b84cd6e37",
   "metadata": {},
   "outputs": [],
   "source": [
    "import math\n",
    "def get_cost (sqft_walls, sqft_ceiling, sqft_per_gallon, cost_per_galon) :\n",
    "    required_gallon = (math.ceil((sqft_walls + sqft_ceiling)/sqft_per_gallon))\n",
    "    cost = required_gallon * cost_per_galon\n",
    "    return cost "
   ]
  },
  {
   "cell_type": "code",
   "execution_count": 43,
   "id": "e84b377c-b8bc-45ee-8983-8d40a7fcf401",
   "metadata": {},
   "outputs": [
    {
     "name": "stdout",
     "output_type": "stream",
     "text": [
      "30\n",
      "30\n"
     ]
    }
   ],
   "source": [
    "total_cost = get_cost (432, 144, 400, 15)\n",
    "print (total_cost)\n",
    "print (math.ceil (total_cost))"
   ]
  },
  {
   "cell_type": "code",
   "execution_count": 1,
   "id": "c25f92ca-2c1e-4464-b05e-9bc80defbaea",
   "metadata": {},
   "outputs": [],
   "source": [
    "# (not solid gold) must be kept on different paranthesis er moddhe rakhte hobe, otherwise it will declare the whole equation as not \n",
    "def cost_of_project (engraving, solid_gold):\n",
    "    cost = (solid_gold *(100 + len (engraving)* 10)) + (not solid_gold) * (50 + len (engraving) * 7)\n",
    "    return cost"
   ]
  },
  {
   "cell_type": "code",
   "execution_count": 3,
   "id": "185c8226-f0d2-4511-8726-58881d76a83b",
   "metadata": {},
   "outputs": [
    {
     "name": "stdout",
     "output_type": "stream",
     "text": [
      "170\n",
      "99\n"
     ]
    }
   ],
   "source": [
    "project_one = cost_of_project (\"jewelry\" , True )\n",
    "print (project_one) \n",
    "project_one = cost_of_project (\"jewelry\" , False )\n",
    "print (project_one) "
   ]
  },
  {
   "cell_type": "code",
   "execution_count": 5,
   "id": "ef6a4c3e-dd2c-4492-b633-f9efb23fd060",
   "metadata": {},
   "outputs": [],
   "source": [
    "def cost_of_project (engraving, solid_gold):\n",
    "    cost = (True *(100 + len (engraving)* 10)) + (False * (50 + len (engraving) * 7))\n",
    "    return cost"
   ]
  },
  {
   "cell_type": "code",
   "execution_count": 7,
   "id": "5aef50a7-abfd-4927-89d3-344f138b0823",
   "metadata": {},
   "outputs": [
    {
     "name": "stdout",
     "output_type": "stream",
     "text": [
      "170\n"
     ]
    }
   ],
   "source": [
    "project_one = cost_of_project (\"jewelry\" , True )\n",
    "print (project_one) "
   ]
  },
  {
   "cell_type": "code",
   "execution_count": 9,
   "id": "0bf6033a-654f-4707-9ee0-a645376df5ad",
   "metadata": {},
   "outputs": [],
   "source": [
    "def cost_of_project (engraving, solid_gold):\n",
    "    if solid_gold == True: \n",
    "        cost = (solid_gold *(100 + len (engraving)* 10)) \n",
    "    else:\n",
    "        cost = (not solid_gold) * (50 + len (engraving) * 7)\n",
    "    return cost"
   ]
  },
  {
   "cell_type": "code",
   "execution_count": 11,
   "id": "68fb7ad8-62fe-4afc-833d-b451c1a6d56e",
   "metadata": {},
   "outputs": [
    {
     "name": "stdout",
     "output_type": "stream",
     "text": [
      "170\n",
      "99\n"
     ]
    }
   ],
   "source": [
    "project_one = cost_of_project (\"jewelry\" , True )\n",
    "print (project_one) \n",
    "project_one = cost_of_project (\"jewelry\" , False )\n",
    "print (project_one) "
   ]
  },
  {
   "cell_type": "code",
   "execution_count": null,
   "id": "508c5daf-af9b-4db8-9a8a-de88a7a623b3",
   "metadata": {},
   "outputs": [],
   "source": []
  },
  {
   "cell_type": "code",
   "execution_count": null,
   "id": "e62d6f45-6486-4a71-bad2-dc9736c80b1d",
   "metadata": {},
   "outputs": [],
   "source": []
  }
 ],
 "metadata": {
  "kernelspec": {
   "display_name": "Python [conda env:base] *",
   "language": "python",
   "name": "conda-base-py"
  },
  "language_info": {
   "codemirror_mode": {
    "name": "ipython",
    "version": 3
   },
   "file_extension": ".py",
   "mimetype": "text/x-python",
   "name": "python",
   "nbconvert_exporter": "python",
   "pygments_lexer": "ipython3",
   "version": "3.12.7"
  }
 },
 "nbformat": 4,
 "nbformat_minor": 5
}
